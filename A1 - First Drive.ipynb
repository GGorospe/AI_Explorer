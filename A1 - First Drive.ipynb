{
 "cells": [
  {
   "cell_type": "markdown",
   "id": "2b3d4569-9ebd-4bcd-8d0c-6706568abdbc",
   "metadata": {},
   "source": [
    "## A1 - First Drive - Getting to Know your Robot\n",
    "Author: George Gorospe, george.gorospe@nmaia.net\\\n",
    "Last Update: June 10, 2025\n",
    "\n",
    "### About: In this notebook you'll learn and use the basic commands to move your robot."
   ]
  },
  {
   "cell_type": "code",
   "execution_count": null,
   "id": "e118462e-a247-4f9b-900c-0c8902a82bf1",
   "metadata": {},
   "outputs": [],
   "source": [
    "# Reminder: this notebook contains both text (like above) and python code.\n",
    "# Select this cell (blue outine), then use the \"Play\" button above to execute the code in this cell\n",
    "print(\"It's that easy!\")"
   ]
  },
  {
   "cell_type": "markdown",
   "id": "ae428434-3bd4-433b-91d6-e0b48a2b1899",
   "metadata": {},
   "source": [
    "### The computer on top of the tank can send commands to the tank to move.\n",
    "### You can instruct your robot to Turn Left, Turn Right, Move Forward, or Move Backward.\n",
    "### However, you have to use specific commands to make your robot move, this is part of programming for robotics, learning how to program your robot."
   ]
  },
  {
   "cell_type": "markdown",
   "id": "45b71b22-6052-400b-99a5-d433b25e7e98",
   "metadata": {},
   "source": [
    "### The first step in preparing to program your robot is importing required code libraries designed specifically for your robot. These libraries are incredibly useful as most of the low level programming has already been done for us!"
   ]
  },
  {
   "cell_type": "code",
   "execution_count": null,
   "id": "70e7d0a4-cbb2-48d3-8db8-db71efb15714",
   "metadata": {},
   "outputs": [],
   "source": [
    "#import the Sphero RVR Tank Robot Software Development Kit\n",
    "from sphero_sdk import SpheroRvrObserver\n",
    "from sphero_sdk import RawMotorModesEnum\n",
    "from sphero_sdk import DriveFlagsBitmask\n",
    "import time"
   ]
  },
  {
   "cell_type": "code",
   "execution_count": null,
   "id": "0ffe4b19-b0c8-4ed2-a0a7-061137f37dd7",
   "metadata": {},
   "outputs": [],
   "source": [
    "# Prepare the interface for the robot and wake up the robot so I'll be ready to receive commands\n",
    "rvr = SpheroRvrObserver()\n",
    "time.sleep(2)\n",
    "rvr.wake()"
   ]
  },
  {
   "cell_type": "markdown",
   "id": "ad371ac8-ca11-4e71-acdc-df7f24c803d9",
   "metadata": {},
   "source": [
    "### Code Example: Commanding the Robot to Move Forward\n",
    "### We're going to command the robot to move forward by setting each motor to forwards mode and commanding the speed or duty cycle of each motor."
   ]
  },
  {
   "cell_type": "code",
   "execution_count": null,
   "id": "996aa2b6-ec9a-4c93-a85b-559ca541a031",
   "metadata": {},
   "outputs": [],
   "source": [
    "# When you execute this cell, the robot will be commanded to move forward by the computer.\n",
    "rvr.raw_motors(\n",
    "    left_mode=RawMotorModesEnum.forward.value,     # Set the left motor mode: \"forward\"\n",
    "    left_duty_cycle=50,  # Valid duty cycle range is 0-255\n",
    "    right_mode=RawMotorModesEnum.forward.value,    # Set the right motor mode: \"forward\n",
    "    right_duty_cycle=50  # Valid duty cycle range is 0-255\n",
    "    )"
   ]
  },
  {
   "cell_type": "markdown",
   "id": "6ea026bd-b578-4ff0-8807-33ab3e92d98a",
   "metadata": {},
   "source": [
    "### It worked! Your robot came to life for a moment and moved forward!\n",
    "### However, it is a lot of trouble to run the cell each time we want to move forward.\n",
    "### What if we later need to move forward, turn left, then move forward again? How can we make the code more accessible?\n",
    "\n",
    "### ANSWER: **Functions** - code structures designed to make portions of code easily reusable.\n",
    "\n",
    "### Use the following cell to make a move_forward() function. I've setup the basic function form, its up to you to fill in the middle using our example command."
   ]
  },
  {
   "cell_type": "code",
   "execution_count": null,
   "id": "827e29ef-5671-443c-a9e7-f88b67bdc1c2",
   "metadata": {},
   "outputs": [],
   "source": [
    "# Creating a custom function, \"move_forward\" for our robot\n",
    "\n",
    "# All custom fucntions start with \"def\" then the name of the function and two perentheses\n",
    "def move_forward():\n",
    "    # Print statement: tells us whats happening\n",
    "    print(\"Waking up robot\")\n",
    "    rvr.wake()\n",
    "    time.sleep(2) # Computer waits for 2 seconds as the robot wakes up\n",
    "    \n",
    "    print(\"robot moving forward\")\n",
    "\n",
    "    #<<<<<< replace this with your code >>>>>>\n",
    "    rvr.raw_motors(\n",
    "    left_mode=RawMotorModesEnum.forward.value,     # Set the left motor mode: \"forward\"\n",
    "    left_duty_cycle=50,  # Valid duty cycle range is 0-255\n",
    "    right_mode=RawMotorModesEnum.forward.value,    # Set the right motor mode: \"forward\n",
    "    right_duty_cycle=50  # Valid duty cycle range is 0-255\n",
    "    )\n",
    "\n",
    "\n",
    "    \n",
    "\n",
    "# Execuate the new custom function\n",
    "move_forward()"
   ]
  },
  {
   "cell_type": "markdown",
   "id": "0c3a46ae-96e9-49a2-9a7e-bd57b8f7f1fb",
   "metadata": {},
   "source": [
    "### Did your robot move forward???\n",
    "### **Thats great!!**\n",
    "\n",
    "### Lets now create a function for moving backwards.\n",
    "### This time you'll need to set the `left_mode` and `right_mode` to `RawMotorModesEnum.reverse.value`\n",
    "\n",
    "### I started the function for you. You do the rest."
   ]
  },
  {
   "cell_type": "code",
   "execution_count": null,
   "id": "edf0fe41-be29-4c55-b0b6-d131be8b73d3",
   "metadata": {},
   "outputs": [],
   "source": [
    "# Creating a custom function, \"move_backward\" for our robot\n",
    "\n",
    "# All custom fucntions start with \"def\" then the name of the function and two perentheses\n",
    "def move_backward():\n",
    "    # Print statement: tells us whats happening\n",
    "    print(\"Waking up robot\")\n",
    "    rvr.wake()\n",
    "    time.sleep(2) # Computer waits for 2 seconds as the robot wakes up\n",
    "    \n",
    "    print(\"robot moving backward\")\n",
    "\n",
    "    #<<<<<< replace this with your code >>>>>>\n",
    "    rvr.raw_motors(\n",
    "    left_mode= <<<<<<<<<Fill this in>>>>>>>>>     # Set the left motor mode: \"forward\"\n",
    "    left_duty_cycle=50,  # Valid duty cycle range is 0-255\n",
    "    right_mode= <<<<<<<<Fill this in>>>>>>>>>>    # Set the right motor mode: \"forward\n",
    "    right_duty_cycle=50  # Valid duty cycle range is 0-255\n",
    "    )\n",
    "\n",
    "\n",
    "    \n",
    "\n",
    "# Execuate the new custom function\n",
    "move_backward()"
   ]
  },
  {
   "cell_type": "markdown",
   "id": "68d78124-cd69-468f-9ce0-c1053eecf490",
   "metadata": {},
   "source": [
    "### Now that we've mastered moving our robot forwards and backwards we need to learn how to turn our robot.\n",
    "### The pattern is the same, we create a custom function, wake up the robot, and then use the `rvr.raw_motors() command.\n",
    "### But this time, we'll set one motor to move forwards and the other to move backwards using `RawMotorModes.Enum`"
   ]
  },
  {
   "cell_type": "markdown",
   "id": "67599009-cc28-45c6-a4b4-534de27d1c4c",
   "metadata": {},
   "source": [
    "### Below are two turning functions labeled: turn_1 and turn_2\n",
    "### Your job is to test the functions then rename the custom functions to `turn_left` and `turn_right`\n",
    "### We want to use `turn left` and `turn_right` in our programs later."
   ]
  },
  {
   "cell_type": "code",
   "execution_count": null,
   "id": "4a0a65c7-d21a-42ac-909b-3873aacc4475",
   "metadata": {},
   "outputs": [],
   "source": [
    "# Creating a custom turning function for our robot\n",
    "\n",
    "# All custom fucntions start with \"def\" then the name of the function and two perentheses\n",
    "def turn_1():\n",
    "    # Print statement: tells us whats happening\n",
    "    print(\"Waking up robot\")\n",
    "    rvr.wake()\n",
    "    time.sleep(2) # Computer waits for 2 seconds as the robot wakes up\n",
    "    \n",
    "    print(\"robot turning left? right? Who knows?\")\n",
    "\n",
    "    #<<<<<< replace this with your code >>>>>>\n",
    "    rvr.raw_motors(\n",
    "    left_mode=RawMotorModesEnum.forward.value,\n",
    "    left_duty_cycle=100,  # Valid duty cycle range is 0-255\n",
    "    right_mode=RawMotorModesEnum.reverse.value,\n",
    "    right_duty_cycle=100  # Valid duty cycle range is 0-255\n",
    "    )\n",
    "\n",
    "\n",
    "# Execuate the new custom function\n",
    "turn_1()"
   ]
  },
  {
   "cell_type": "code",
   "execution_count": null,
   "id": "534ea5d2-5ed5-412e-aedf-b6e98bf524db",
   "metadata": {},
   "outputs": [],
   "source": [
    "# Creating a custom turning function for our robot\n",
    "\n",
    "# All custom fucntions start with \"def\" then the name of the function and two perentheses\n",
    "def turn_2():\n",
    "    # Print statement: tells us whats happening\n",
    "    print(\"Waking up robot\")\n",
    "    rvr.wake()\n",
    "    time.sleep(2) # Computer waits for 2 seconds as the robot wakes up\n",
    "    \n",
    "    print(\"robot turning left? right? Who knows?\")\n",
    "\n",
    "    #<<<<<< replace this with your code >>>>>>\n",
    "    rvr.raw_motors(\n",
    "    left_mode=RawMotorModesEnum.reverse.value,\n",
    "    left_duty_cycle=100,  # Valid duty cycle range is 0-255\n",
    "    right_mode=RawMotorModesEnum.forward.value,\n",
    "    right_duty_cycle=100  # Valid duty cycle range is 0-255\n",
    "    )\n",
    "\n",
    "\n",
    "# Execuate the new custom function\n",
    "turn_2()"
   ]
  },
  {
   "cell_type": "markdown",
   "id": "c9e0ce9d-12ec-4b1b-9f91-c0aa1ee253c3",
   "metadata": {},
   "source": [
    "### Hopefully, you've now got four commands for your robot:\n",
    "\n",
    "### [move_forward, move_backward, turn_left, turn_right]"
   ]
  },
  {
   "cell_type": "markdown",
   "id": "a7672232-1d82-452b-8db8-953ed120e240",
   "metadata": {},
   "source": [
    "## Student Challenge: command your robot to execute a square path\n"
   ]
  },
  {
   "cell_type": "code",
   "execution_count": null,
   "id": "34dc2b49-ac75-44a5-b71b-0442e67af0ca",
   "metadata": {},
   "outputs": [],
   "source": [
    "# Write your program here"
   ]
  }
 ],
 "metadata": {
  "kernelspec": {
   "display_name": "Python 3 (ipykernel)",
   "language": "python",
   "name": "python3"
  },
  "language_info": {
   "codemirror_mode": {
    "name": "ipython",
    "version": 3
   },
   "file_extension": ".py",
   "mimetype": "text/x-python",
   "name": "python",
   "nbconvert_exporter": "python",
   "pygments_lexer": "ipython3",
   "version": "3.10.12"
  }
 },
 "nbformat": 4,
 "nbformat_minor": 5
}

{
 "cells": [
  {
   "cell_type": "markdown",
   "id": "141bcc50-4aa5-42e7-ac7a-68ae103a26d3",
   "metadata": {},
   "source": [
    "## A2 - Advanced Driving - Programming Your Robot\n",
    "Author: George Gorospe, george.gorospe@nmaia.net\\\n",
    "Last Update: June 10, 2025\n",
    "\n",
    "### About: In this notebook you'll use the advanced commands to move your robot."
   ]
  },
  {
   "cell_type": "markdown",
   "id": "bdf4cfd3-0c52-4b30-9721-8848d5d8db61",
   "metadata": {},
   "source": [
    "### In the last notebook \"A1 - First Drive\" we learned about the raw control of our robot's motors. By commanding the motors we could move forward, backwards, and turn both left and right.\n",
    "### However, it was difficult to command the robot to make precise 90 degree turns or to drive a specific distance each time."
   ]
  },
  {
   "cell_type": "markdown",
   "id": "84061d64-25e0-4370-81a5-3548633712a7",
   "metadata": {},
   "source": [
    "### Fortunately, our robot has additional sensors which help it to understand its heading, or the direction its pointing. \n",
    "### The robot's inertial measurement unit (IMU) has sensors for measuring acceleration, compass direction, and rate of spin.\n",
    "\n",
    "### One step above raw control of motor speeds, we can use a controller in the robot to turn precisely and to move with in our chosen direction.\n"
   ]
  },
  {
   "cell_type": "markdown",
   "id": "58139f9a-3f11-4796-ab9e-fb560881ab53",
   "metadata": {},
   "source": [
    "### The first step in preparing to program your robot is importing required code libraries designed specifically for your robot. These libraries are incredibly useful as most of the low level programming has already been done for us!"
   ]
  },
  {
   "cell_type": "code",
   "execution_count": 1,
   "id": "82753cb6-4606-48d1-9085-cc0e87494e30",
   "metadata": {},
   "outputs": [],
   "source": [
    "#import the Sphero RVR Tank Robot Software Development Kit\n",
    "from sphero_sdk import SpheroRvrObserver\n",
    "from sphero_sdk import RawMotorModesEnum\n",
    "from sphero_sdk import DriveFlagsBitmask\n",
    "import time"
   ]
  },
  {
   "cell_type": "code",
   "execution_count": 5,
   "id": "580a5833-4af5-4ac4-8e30-2e81e667438e",
   "metadata": {},
   "outputs": [],
   "source": [
    "# Prepare the interface for the robot and wake up the robot so I'll be ready to receive commands\n",
    "rvr = SpheroRvrObserver()\n",
    "time.sleep(2)\n",
    "rvr.wake()"
   ]
  },
  {
   "cell_type": "code",
   "execution_count": 6,
   "id": "794ac97a-49ab-427e-aa0e-1591f1ca466b",
   "metadata": {},
   "outputs": [],
   "source": [
    "# Reminder: Raw Motor Control\n",
    "# When you execute this cell, the robot will be commanded to move forward by the computer.\n",
    "rvr.raw_motors(\n",
    "    left_mode=RawMotorModesEnum.forward.value,     # Set the left motor mode: \"forward\"\n",
    "    left_duty_cycle=50,  # Valid duty cycle range is 0-255\n",
    "    right_mode=RawMotorModesEnum.forward.value,    # Set the right motor mode: \"forward\n",
    "    right_duty_cycle=50  # Valid duty cycle range is 0-255\n",
    "    )"
   ]
  },
  {
   "cell_type": "markdown",
   "id": "54a0fca2-6dfa-4062-923c-4024084ed009",
   "metadata": {},
   "source": [
    "### Introducing a new controlled drive command\n",
    "\n",
    "### Example Code: The following code shows show to use the new `drive_forward_second()` command."
   ]
  },
  {
   "cell_type": "code",
   "execution_count": 7,
   "id": "182e7d32-7f58-47d0-8620-b727b8a7cb29",
   "metadata": {},
   "outputs": [
    {
     "name": "stdout",
     "output_type": "stream",
     "text": [
      "reset heading...\n",
      "drive forward...\n",
      "drive forward...\n"
     ]
    }
   ],
   "source": [
    "# Commanding the robot to make a 90 right turn\n",
    "rvr.wake()\n",
    "\n",
    "# Give RVR time to wake up\n",
    "time.sleep(2)\n",
    "\n",
    "rvr.drive_control.reset_heading()\n",
    "\n",
    "rvr.drive_control.drive_forward_seconds(\n",
    "    speed=100,\n",
    "    heading=0,  # Valid heading values are 0-359\n",
    "    time_to_drive=1\n",
    ")\n",
    "\n",
    "rvr.drive_control.drive_forward_seconds(\n",
    "    speed=100,\n",
    "    heading=90,  # Valid heading values are 0-359\n",
    "    time_to_drive=1\n",
    ")"
   ]
  },
  {
   "cell_type": "markdown",
   "id": "cc97055a-56d6-4527-b677-e361f1a508ef",
   "metadata": {},
   "source": [
    "### With the `drive_forward_second()` command, we have 3 important parameters to think about as we command the robot:\n",
    "### 1. speed - (0-250) How fast do you want the robot to drive\n",
    "### 2. heading - (0-360) The angular direction or heading the robot will take when driving\n",
    "### 3. time_to_drive - (seconds) How long do you want the robot to drive?"
   ]
  },
  {
   "cell_type": "markdown",
   "id": "d2c8dfe6-c332-4270-8145-b0a0cb1d31a7",
   "metadata": {},
   "source": [
    "### It now seems a lot easier to command the robot to make a square. However, you'd have to again include the `drive_forward_seconds()` command four times.\n",
    "\n",
    "### *Is there a better way to do this?*"
   ]
  },
  {
   "cell_type": "markdown",
   "id": "f9978a01-749b-4f21-89e3-597c3088628b",
   "metadata": {},
   "source": [
    "### **ANSWER**: with a custom function!\n",
    "### functions can take user supplied input to set the parameters of the drive.\n",
    "\n",
    "### I've setup a sample below where I've included 1 input, for speed. Can you think about how this could be done for the other inputs?"
   ]
  },
  {
   "cell_type": "code",
   "execution_count": 11,
   "id": "1c7f3d31-e945-48dc-abb3-1bd62550eb4f",
   "metadata": {},
   "outputs": [
    {
     "name": "stdout",
     "output_type": "stream",
     "text": [
      "The user commanded speed is: 100\n",
      "Waking up robot\n",
      "reset heading...\n",
      "drive forward...\n"
     ]
    }
   ],
   "source": [
    "# Example custom function with one input\n",
    "def drive_robot(speed_rate): \n",
    "    # Inside this function the user supplied value is assigned to \"speed_rate\"\n",
    "    print(\"The user commanded speed is: \" + str(speed_rate))\n",
    "\n",
    "    print(\"Waking up robot\")\n",
    "    rvr.wake()\n",
    "    time.sleep(2) # Computer waits for 2 seconds as the robot wakes up\n",
    "\n",
    "    # Reset the heading for this program\n",
    "    rvr.drive_control.reset_heading()\n",
    "    \n",
    "    rvr.drive_control.drive_forward_seconds(\n",
    "        speed=speed_rate, # Now using the user supplied input\n",
    "        heading=0,  # Valid heading values are 0-359\n",
    "        time_to_drive=1\n",
    "    )\n",
    "\n",
    "\n",
    "drive_robot(100)"
   ]
  },
  {
   "cell_type": "markdown",
   "id": "d7c61c8c-8e69-4f2a-b371-b7c5a9039eda",
   "metadata": {},
   "source": [
    "### In the following code cell re-write the `drive_robot` function to include user inputs for `speed_rate`, `desired_heading`, and `drive_time`."
   ]
  },
  {
   "cell_type": "code",
   "execution_count": null,
   "id": "bec196f7-cdeb-44a5-b6c9-c7519c94dce5",
   "metadata": {},
   "outputs": [],
   "source": [
    "# Example custom function with one input\n",
    "def drive_robot(speed_rate, , ): \n",
    "    # Inside this function the user supplied value is assigned to \"speed_rate\"\n",
    "    print(\"The user commanded speed is: \" + str(speed_rate))\n",
    "\n",
    "    print(\"Waking up robot\")\n",
    "    rvr.wake()\n",
    "    time.sleep(2) # Computer waits for 2 seconds as the robot wakes up\n",
    "\n",
    "    # Reset the heading for this program\n",
    "    rvr.drive_control.reset_heading()\n",
    "    \n",
    "    rvr.drive_control.drive_forward_seconds(\n",
    "        speed=speed_rate, # Now using the user supplied input\n",
    "        heading=0,  # Valid heading values are 0-359\n",
    "        time_to_drive=1\n",
    "    )\n",
    "\n",
    "\n",
    "drive_robot(100, , )"
   ]
  }
 ],
 "metadata": {
  "kernelspec": {
   "display_name": "Python 3 (ipykernel)",
   "language": "python",
   "name": "python3"
  },
  "language_info": {
   "codemirror_mode": {
    "name": "ipython",
    "version": 3
   },
   "file_extension": ".py",
   "mimetype": "text/x-python",
   "name": "python",
   "nbconvert_exporter": "python",
   "pygments_lexer": "ipython3",
   "version": "3.10.12"
  }
 },
 "nbformat": 4,
 "nbformat_minor": 5
}
